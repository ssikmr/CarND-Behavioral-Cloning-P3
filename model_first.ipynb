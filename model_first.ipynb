{
 "cells": [
  {
   "cell_type": "code",
   "execution_count": 2,
   "metadata": {},
   "outputs": [
    {
     "name": "stdout",
     "output_type": "stream",
     "text": [
      "X_train.shape (20099, 80, 320, 3)\n",
      "y_train.shape (20099,)\n"
     ]
    }
   ],
   "source": [
    "import csv \n",
    "import cv2\n",
    "import tensorflow as tf\n",
    "import keras.backend as ktf\n",
    "import numpy as np\n",
    "\n",
    "lines = []\n",
    "with open('./data/driving_log.csv') as csvfile:\n",
    "    reader = csv.reader(csvfile)\n",
    "    first = True\n",
    "    for line in reader:\n",
    "        if first :\n",
    "            first = False\n",
    "            continue\n",
    "        lines.append(line)\n",
    "\n",
    "images = []\n",
    "measurements = []\n",
    "LEFT_CORR = 0.1\n",
    "RIGHT_CORR = 0.2\n",
    "DROP_RATE = 0.50\n",
    "\t\n",
    "for line in lines:\n",
    "    centre_file = './data/IMG/'+ line[0].split('/')[-1]\n",
    "    left_file   = './data/IMG/'+ line[1].split('/')[-1]\n",
    "    right_file  = './data/IMG/'+ line[2].split('/')[-1]\n",
    "    if np.random.uniform() < DROP_RATE:\n",
    "        image = cv2.imread(centre_file )\n",
    "        image = cv2.cvtColor(image, cv2.COLOR_BGR2RGB)\n",
    "        image =image[60:140,:,:]\n",
    "        measurement = float(line[3])\n",
    "        images.append(image)\n",
    "        measurements.append(measurement)\n",
    "    \n",
    "    #image =cv2.resize(image, (64,64))\n",
    "    #if measurement > -0.05 && measurement < 0.05:\n",
    "    image = cv2.imread(left_file )\n",
    "    image = cv2.cvtColor(image, cv2.COLOR_BGR2RGB)\n",
    "    image =image[60:140,:,:]\n",
    "    measurement = float(line[3]) + LEFT_CORR\n",
    "    images.append(image)\n",
    "    measurements.append(measurement)\n",
    "    \n",
    "    image = cv2.imread(right_file )\n",
    "    image = cv2.cvtColor(image, cv2.COLOR_BGR2RGB)\n",
    "    image =image[60:140,:,:]\n",
    "    measurement = float(line[3]) - RIGHT_CORR\n",
    "    images.append(image)\n",
    "    measurements.append(measurement)\n",
    "\n",
    "    \n",
    "X_train = np.array(images)\n",
    "y_train = np.array(measurements)\n",
    "\n",
    "print('X_train.shape',X_train.shape)\n",
    "print('y_train.shape',y_train.shape)\n",
    "# Preprocessing"
   ]
  },
  {
   "cell_type": "code",
   "execution_count": 7,
   "metadata": {},
   "outputs": [
    {
     "data": {
      "text/plain": [
       "(array([1.99663080e-03, 6.43358814e-03, 5.87896848e-02, 3.36986910e-01,\n",
       "        1.65099183e+00, 2.10200854e+00, 2.58009069e-01, 3.92670725e-02,\n",
       "        3.54956587e-03, 8.87391468e-04]),\n",
       " array([-1.1426954 , -0.91842586, -0.69415632, -0.46988678, -0.24561724,\n",
       "        -0.0213477 ,  0.20292184,  0.42719138,  0.65146092,  0.87573046,\n",
       "         1.1       ]),\n",
       " <a list of 10 Patch objects>)"
      ]
     },
     "execution_count": 7,
     "metadata": {},
     "output_type": "execute_result"
    },
    {
     "data": {
      "image/png": "[encoded data removed]",
      "text/plain": [
       "<matplotlib.figure.Figure at 0x20b9bb18160>"
      ]
     },
     "metadata": {},
     "output_type": "display_data"
    }
   ],
   "source": [
    "import matplotlib.pyplot as plt\n",
    "%matplotlib inline\n",
    "#plt.imshow(X_train[250])\n",
    "plt.hist(y_train, normed=1, facecolor='green', alpha=0.75)"
   ]
  },
  {
   "cell_type": "code",
   "execution_count": 9,
   "metadata": {},
   "outputs": [
    {
     "name": "stdout",
     "output_type": "stream",
     "text": [
      "Train on 16079 samples, validate on 4020 samples\n",
      "Epoch 1/5\n",
      "16079/16079 [==============================] - 217s - loss: 0.0787 - val_loss: 0.0167\n",
      "Epoch 2/5\n",
      "16079/16079 [==============================] - 223s - loss: 0.0114 - val_loss: 0.0153\n",
      "Epoch 3/5\n",
      "16079/16079 [==============================] - 209s - loss: 0.0084 - val_loss: 0.0150\n",
      "Epoch 4/5\n",
      "16079/16079 [==============================] - 206s - loss: 0.0065 - val_loss: 0.0191\n",
      "Epoch 5/5\n",
      "16079/16079 [==============================] - 206s - loss: 0.0048 - val_loss: 0.0146\n",
      "dict_keys(['val_loss', 'loss'])\n"
     ]
    }
   ],
   "source": [
    "# Resize\n",
    "def resize(X):\n",
    "\n",
    "    #return ktf.resize_images(X,64.0/80, 64.0/320, \"channels_first\")\n",
    "    import tensorflow as tf\n",
    "    return tf.image.resize_images(X,[32,128])\n",
    "\n",
    "\n",
    "\n",
    "\n",
    "#MODEL ARCHITECTURE\n",
    "\n",
    "from keras.models import Sequential\n",
    "from keras.layers import Flatten,Dense,Activation,Lambda,Convolution2D,Dropout\n",
    "\n",
    "model = Sequential()\n",
    "#model.add(Lambda(lambda x: x/127.5 - 1,input_shape = (64,64,3)))\n",
    "model.add(Lambda(lambda x: x/127.5 - 1,input_shape = (80,320,3)))\n",
    "model.add(Lambda(resize))\n",
    "\n",
    "model.add(Convolution2D(6,3,3))\n",
    "model.add(Activation('relu'))\n",
    "\n",
    "model.add(Convolution2D(12,3,3))\n",
    "model.add(Activation('relu'))\n",
    "\n",
    "#model.add(Dropout(0.5))\n",
    "\n",
    "model.add(Flatten())\n",
    "\n",
    "model.add(Dense(300))\n",
    "model.add(Activation('relu'))\n",
    "#model.add(Dropout(0.5))\n",
    "\n",
    "model.add(Dense(100))\n",
    "model.add(Activation('relu'))\n",
    "#model.add(Dropout(0.5))\n",
    "\n",
    "model.add(Dense(30))\n",
    "model.add(Activation('relu'))\n",
    "\n",
    "model.add(Dense(1))\n",
    "\n",
    "\n",
    "model.compile(loss = 'mse', optimizer = 'adam')\n",
    "history_object = model.fit(X_train, y_train, validation_split = 0.2, shuffle = True, nb_epoch = 5, batch_size = 128)\n",
    "### print the keys contained in the history object\n",
    "print(history_object.history.keys())\n",
    "\n",
    "model.save('model.h5')\n"
   ]
  },
  {
   "cell_type": "code",
   "execution_count": 10,
   "metadata": {},
   "outputs": [
    {
     "data": {
      "image/png": "[encoded data removed]",
      "text/plain": [
       "<matplotlib.figure.Figure at 0x20bc8dbc550>"
      ]
     },
     "metadata": {},
     "output_type": "display_data"
    }
   ],
   "source": [
    "### plot the training and validation loss for each epoch\n",
    "plt.plot(history_object.history['loss'])\n",
    "plt.plot(history_object.history['val_loss'])\n",
    "plt.title('model mean squared error loss')\n",
    "plt.ylabel('mean squared error loss')\n",
    "plt.xlabel('epoch')\n",
    "plt.legend(['training set', 'validation set'], loc='upper right')\n",
    "plt.show()"
   ]
  },
  {
   "cell_type": "code",
   "execution_count": null,
   "metadata": {},
   "outputs": [],
   "source": []
  }
 ],
 "metadata": {
  "kernelspec": {
   "display_name": "Python [conda env:carnd-term1]",
   "language": "python",
   "name": "conda-env-carnd-term1-py"
  },
  "language_info": {
   "codemirror_mode": {
    "name": "ipython",
    "version": 3
   },
   "file_extension": ".py",
   "mimetype": "text/x-python",
   "name": "python",
   "nbconvert_exporter": "python",
   "pygments_lexer": "ipython3",
   "version": "3.5.2"
  },
  "widgets": {
   "state": {},
   "version": "1.1.2"
  }
 },
 "nbformat": 4,
 "nbformat_minor": 2
}
